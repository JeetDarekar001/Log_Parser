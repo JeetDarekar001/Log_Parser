{
 "cells": [
  {
   "cell_type": "code",
   "execution_count": 1,
   "id": "e9aa0ab9",
   "metadata": {},
   "outputs": [],
   "source": [
    "import json\n",
    "from json import JSONEncoder\n",
    "import re\n",
    "import time"
   ]
  },
  {
   "cell_type": "code",
   "execution_count": 10,
   "id": "c7cd4076",
   "metadata": {},
   "outputs": [],
   "source": [
    "class LogMetrics:\n",
    "    def __init__(self):\n",
    "        self.log_file_name=\"\"\n",
    "        self.dir={}\n",
    "        self.metrics=[]\n",
    "        self.error=False\n",
    "        self.error_message=\"\""
   ]
  },
  {
   "cell_type": "code",
   "execution_count": 3,
   "id": "11dccd6a",
   "metadata": {},
   "outputs": [],
   "source": [
    "class Encoder(JSONEncoder):\n",
    "    def default(slef,o):\n",
    "        return o.__dict__"
   ]
  },
  {
   "cell_type": "code",
   "execution_count": 40,
   "id": "7d108093",
   "metadata": {},
   "outputs": [],
   "source": [
    "def process_log_file(file_list):\n",
    "    \n",
    "    Pattern_dir=r'(?im)^\\s+(?P<type>source|Dest)\\s+:\\s+(?P<path>.+)'\n",
    "    \n",
    "    pattern_error=r'(?im)^(?P<Timestamp>\\d{4}/\\d{2}/\\d{2})\\s+(?P<error>.+)'\n",
    "    \n",
    "    pattern_metrics=r'(?im)(?P<type>Dirs|Files|Bytes)\\s+:'\\\n",
    "                        '\\s+(?P<total>\\d+)\\s+(?P<copied>\\d+)'\\\n",
    "                        '\\s+(?P<skipped>\\d+)\\s+(?P<mismatch>\\d+)'\\\n",
    "                        '\\s+(?P<failed>\\d+)\\s+(?P<extras>\\d+)'\n",
    "    \n",
    "    for file in file_list:\n",
    "            log_metrics=LogMetrics()\n",
    "            log_metrics.file_name=file\n",
    "            \n",
    "            with open(file,'r',encoding='utf-8') as rdr:\n",
    "                for line in rdr:\n",
    "                    match=re.search(pattern_error,line)\n",
    "                    \n",
    "                    if match:\n",
    "                        log_metrics.error=True\n",
    "                        log_metrics.error_message=line\n",
    "                    \n",
    "                    match=re.search(Pattern_dir,line)\n",
    "                    if match:\n",
    "                        log_metrics.dir[match.group('type')]=match.group('path')\n",
    "                    \n",
    "                    match=re.search(pattern_metrics,line)\n",
    "                    if match:\n",
    "                        metricsRow=[]\n",
    "                        metricsHeader=[]\n",
    "                        captureHeader=False\n",
    "                        \n",
    "                        if len(log_metrics.metrics)==0:\n",
    "                            captureHeader=True\n",
    "                            \n",
    "                        for key,value in match.groupdict().items():\n",
    "                            if captureHeader:\n",
    "                                metricsHeader.append(key)\n",
    "                                    \n",
    "                                metricsRow.append(value)\n",
    "                                \n",
    "                        if captureHeader:\n",
    "                            log_metrics.metrics.append(metricsHeader)\n",
    "                            \n",
    "                        log_metrics.metrics.append(metricsRow)\n",
    "                        \n",
    "            with open(file+\".json\",\"w\",encoding='utf-8') as wr:\n",
    "                json.dump(log_metrics,wr,ensure_ascii=False,cls=Encoder,indent=True)\n",
    "                        \n",
    "    \n",
    "    return"
   ]
  },
  {
   "cell_type": "code",
   "execution_count": 41,
   "id": "facf0cc1",
   "metadata": {},
   "outputs": [
    {
     "name": "stdout",
     "output_type": "stream",
     "text": [
      "['Dirs', '7', '6', '1', '0', '0', '0']\n",
      "[]\n",
      "[]\n",
      "elapsed Time : 0.004995\n"
     ]
    }
   ],
   "source": [
    "file_list=['Robocopy_success.txt','Robocopy_invalid.txt']\n",
    "startime=time.time()\n",
    "\n",
    "process_log_file(file_list)\n",
    "\n",
    "endtime=time.time()\n",
    "\n",
    "print(\"elapsed Time : {0:.6f}\".format(endtime-startime))\n"
   ]
  },
  {
   "cell_type": "code",
   "execution_count": null,
   "id": "d31d19cc",
   "metadata": {},
   "outputs": [],
   "source": []
  },
  {
   "cell_type": "code",
   "execution_count": null,
   "id": "382145ab",
   "metadata": {},
   "outputs": [],
   "source": []
  }
 ],
 "metadata": {
  "kernelspec": {
   "display_name": "Python 3 (ipykernel)",
   "language": "python",
   "name": "python3"
  },
  "language_info": {
   "codemirror_mode": {
    "name": "ipython",
    "version": 3
   },
   "file_extension": ".py",
   "mimetype": "text/x-python",
   "name": "python",
   "nbconvert_exporter": "python",
   "pygments_lexer": "ipython3",
   "version": "3.9.7"
  }
 },
 "nbformat": 4,
 "nbformat_minor": 5
}
