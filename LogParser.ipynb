{
 "cells": [
  {
   "cell_type": "markdown",
   "id": "c875ab99",
   "metadata": {},
   "source": [
    "# Log Parser - Regex"
   ]
  },
  {
   "cell_type": "markdown",
   "id": "62abc64d",
   "metadata": {},
   "source": [
    "### Approach\n"
   ]
  },
  {
   "cell_type": "markdown",
   "id": "1174c9d6",
   "metadata": {},
   "source": [
    "To capture we need to write three expressions.\n",
    "1. To capture source and destination path in log file.\n",
    "2. To read data which is sent and recieved.\n",
    "3. To capture error message if any found.\n"
   ]
  },
  {
   "cell_type": "code",
   "execution_count": 4,
   "id": "ea8b8f0d",
   "metadata": {},
   "outputs": [],
   "source": [
    "import re"
   ]
  },
  {
   "cell_type": "markdown",
   "id": "fc610570",
   "metadata": {},
   "source": [
    "###### Code to capture source , destination from header section."
   ]
  },
  {
   "cell_type": "code",
   "execution_count": 70,
   "id": "72104ea5",
   "metadata": {},
   "outputs": [
    {
     "name": "stdout",
     "output_type": "stream",
     "text": [
      "{'type': 'Source', 'path': 'C:\\\\RegularExpressionsWithDotNet\\robocopytest\\\\source\\\\தமிழ்\\\\हिन्दी\\\\English'}\n",
      "{'type': 'Dest', 'path': 'C:\\\\RegularExpressionsWithDotNet\\robocopytest\\\\destn'}\n"
     ]
    }
   ],
   "source": [
    "data='''\n",
    "  Started : Sunday, May 1, 2016 1:59:16 PM\n",
    "   Source : C:\\RegularExpressionsWithDotNet\\robocopytest\\source\\தமிழ்\\हिन्दी\\English\n",
    "     Dest : C:\\RegularExpressionsWithDotNet\\robocopytest\\destn\\\n",
    "\n",
    "    Files : *.*\n",
    "\t    \n",
    "  Options : *.* /BYTES /S /DCOPY:DA /COPY:DAT /NP /R:1000000 /W:30 \n",
    "'''\n",
    "\n",
    "\n",
    "regex=re.compile('(?im)^\\s+(?P<type>source|Dest)\\s+:\\s+(?P<path>.+)')\n",
    "match=regex.finditer(data)\n",
    "type(match)\n",
    "\n",
    "if match :\n",
    "    for i in match:\n",
    "        print(i.groupdict())\n",
    "#if m:\n",
    "#    print(m.groups())"
   ]
  },
  {
   "cell_type": "markdown",
   "id": "83c1dd88",
   "metadata": {},
   "source": [
    "###### To capture error message from the file "
   ]
  },
  {
   "cell_type": "code",
   "execution_count": 88,
   "id": "29d7cca4",
   "metadata": {},
   "outputs": [
    {
     "name": "stdout",
     "output_type": "stream",
     "text": [
      "{'Timestamp': '2016/05/28', 'error': '19:24:30 ERROR 2 (0x00000002) Accessing Source Directory C:\\\\RegularExpressionsWithDotNet\\robocopytest\\\\source2The system cannot find the file specified.'}\n"
     ]
    }
   ],
   "source": [
    "error=\"\"\"2016/05/28 19:24:30 ERROR 2 (0x00000002) Accessing Source Directory C:\\RegularExpressionsWithDotNet\\robocopytest\\source2\\\n",
    "The system cannot find the file specified.\"\"\"\n",
    "\n",
    "regex=re.compile('(?im)^(?P<Timestamp>\\d{4}/\\d{2}/\\d{2})\\s+(?P<error>.+)')\n",
    "match=regex.finditer(error)\n",
    "#print(match)\n",
    "\n",
    "if match :\n",
    "    for i in match:\n",
    "        print(i.groupdict())"
   ]
  },
  {
   "cell_type": "markdown",
   "id": "bb97741a",
   "metadata": {},
   "source": [
    "###### Capture metrics table"
   ]
  },
  {
   "cell_type": "code",
   "execution_count": 108,
   "id": "b8ba45ca",
   "metadata": {},
   "outputs": [
    {
     "name": "stdout",
     "output_type": "stream",
     "text": [
      "<callable_iterator object at 0x000002BD3A4C8430>\n",
      "{'type': 'Dirs', 'total': '7', 'copied': '6', 'skipped': '1', 'mismatch': '0', 'failed': '0', 'extras': '0'}\n",
      "{'type': 'Files', 'total': '29', 'copied': '29', 'skipped': '0', 'mismatch': '0', 'failed': '0', 'extras': '0'}\n",
      "{'type': 'Bytes', 'total': '133567', 'copied': '133567', 'skipped': '0', 'mismatch': '0', 'failed': '0', 'extras': '0'}\n"
     ]
    }
   ],
   "source": [
    "metrics='''------------------------------------------------------------------------------\n",
    "\n",
    "               Total    Copied   Skipped  Mismatch    FAILED    Extras\n",
    "    Dirs :         7         6         1         0         0         0\n",
    "   Files :        29        29         0         0         0         0\n",
    "   Bytes :    133567    133567         0         0         0         0\n",
    "   Times :   0:00:00   0:00:00                       0:00:00   0:00:00'''\n",
    "\n",
    "regex=re.compile('(?im)(?P<type>Dirs|Files|Bytes)\\s+:\\s+(?P<total>\\d+)\\s+(?P<copied>\\d+)\\s+(?P<skipped>\\d+)\\s+(?P<mismatch>\\d+)\\s+(?P<failed>\\d+)\\s+(?P<extras>\\d+)')\n",
    "match=regex.finditer(metrics)\n",
    "print(match)\n",
    "if match:\n",
    "    for i in match:\n",
    "        print(i.groupdict())"
   ]
  },
  {
   "cell_type": "code",
   "execution_count": null,
   "id": "774ad6a1",
   "metadata": {},
   "outputs": [],
   "source": []
  }
 ],
 "metadata": {
  "kernelspec": {
   "display_name": "Python 3 (ipykernel)",
   "language": "python",
   "name": "python3"
  },
  "language_info": {
   "codemirror_mode": {
    "name": "ipython",
    "version": 3
   },
   "file_extension": ".py",
   "mimetype": "text/x-python",
   "name": "python",
   "nbconvert_exporter": "python",
   "pygments_lexer": "ipython3",
   "version": "3.9.7"
  }
 },
 "nbformat": 4,
 "nbformat_minor": 5
}
